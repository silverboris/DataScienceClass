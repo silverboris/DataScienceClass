{
 "cells": [
  {
   "cell_type": "markdown",
   "metadata": {},
   "source": [
    "## This notebook has been uploaded to GitHub\n",
    "#### https://github.com/silverboris/DataScienceClass/blob/master/FP2_Boris_Serebrinskiy_EDA_Installment2.ipynb\n",
    "\n"
   ]
  },
  {
   "cell_type": "markdown",
   "metadata": {},
   "source": [
    "## MS Data Science Class\n",
    "### Final Project, Part 2, EDA, Installment 2\n",
    "### Author: Boris Serebrinskiy\n",
    "### Date: Dec 1, 2018\n",
    "\n",
    "### Project Name: Predicting cost of solar panel installations based on system size, progress in solar panel development, economic incentives, electric rates.\n",
    "\n",
    "### Installment 2 - addition of Electric Rates, Construction Costs, Return on Investment"
   ]
  },
  {
   "cell_type": "code",
   "execution_count": null,
   "metadata": {},
   "outputs": [],
   "source": []
  },
  {
   "cell_type": "code",
   "execution_count": 166,
   "metadata": {},
   "outputs": [],
   "source": [
    "import pandas as pd\n",
    "import seaborn as sns\n",
    "import matplotlib.pyplot as plt \n",
    "%matplotlib inline\n",
    "\n"
   ]
  },
  {
   "cell_type": "code",
   "execution_count": 167,
   "metadata": {},
   "outputs": [],
   "source": [
    "DATA_FILE=\"electricity_avgprice_annual.csv\""
   ]
  },
  {
   "cell_type": "code",
   "execution_count": 168,
   "metadata": {},
   "outputs": [],
   "source": [
    "df = pd.read_csv(DATA_FILE)"
   ]
  },
  {
   "cell_type": "code",
   "execution_count": 169,
   "metadata": {},
   "outputs": [
    {
     "name": "stdout",
     "output_type": "stream",
     "text": [
      "<class 'pandas.core.frame.DataFrame'>\n",
      "RangeIndex: 4104 entries, 0 to 4103\n",
      "Data columns (total 8 columns):\n",
      "Year                      4104 non-null int64\n",
      "State                     4104 non-null object\n",
      "IndustrySectorCategory    4104 non-null object\n",
      "Residential               4104 non-null float64\n",
      "Commercial                4104 non-null object\n",
      "Industrial                4104 non-null float64\n",
      "Transportation            2497 non-null float64\n",
      "Total                     4104 non-null float64\n",
      "dtypes: float64(4), int64(1), object(3)\n",
      "memory usage: 256.6+ KB\n"
     ]
    }
   ],
   "source": [
    "df.info()"
   ]
  },
  {
   "cell_type": "code",
   "execution_count": 170,
   "metadata": {
    "scrolled": true
   },
   "outputs": [
    {
     "data": {
      "text/html": [
       "<div>\n",
       "<style scoped>\n",
       "    .dataframe tbody tr th:only-of-type {\n",
       "        vertical-align: middle;\n",
       "    }\n",
       "\n",
       "    .dataframe tbody tr th {\n",
       "        vertical-align: top;\n",
       "    }\n",
       "\n",
       "    .dataframe thead th {\n",
       "        text-align: right;\n",
       "    }\n",
       "</style>\n",
       "<table border=\"1\" class=\"dataframe\">\n",
       "  <thead>\n",
       "    <tr style=\"text-align: right;\">\n",
       "      <th></th>\n",
       "      <th>Year</th>\n",
       "      <th>Residential</th>\n",
       "      <th>Industrial</th>\n",
       "      <th>Transportation</th>\n",
       "      <th>Total</th>\n",
       "    </tr>\n",
       "  </thead>\n",
       "  <tbody>\n",
       "    <tr>\n",
       "      <th>count</th>\n",
       "      <td>4104.000000</td>\n",
       "      <td>4104.000000</td>\n",
       "      <td>4104.000000</td>\n",
       "      <td>2497.000000</td>\n",
       "      <td>4104.000000</td>\n",
       "    </tr>\n",
       "    <tr>\n",
       "      <th>mean</th>\n",
       "      <td>2004.771199</td>\n",
       "      <td>9.138038</td>\n",
       "      <td>5.871209</td>\n",
       "      <td>4.033136</td>\n",
       "      <td>7.863255</td>\n",
       "    </tr>\n",
       "    <tr>\n",
       "      <th>std</th>\n",
       "      <td>7.714093</td>\n",
       "      <td>4.474938</td>\n",
       "      <td>3.170240</td>\n",
       "      <td>4.584986</td>\n",
       "      <td>4.795503</td>\n",
       "    </tr>\n",
       "    <tr>\n",
       "      <th>min</th>\n",
       "      <td>1990.000000</td>\n",
       "      <td>-0.480000</td>\n",
       "      <td>-2.090000</td>\n",
       "      <td>0.000000</td>\n",
       "      <td>-1.670000</td>\n",
       "    </tr>\n",
       "    <tr>\n",
       "      <th>25%</th>\n",
       "      <td>1999.000000</td>\n",
       "      <td>6.940000</td>\n",
       "      <td>4.160000</td>\n",
       "      <td>0.000000</td>\n",
       "      <td>5.640000</td>\n",
       "    </tr>\n",
       "    <tr>\n",
       "      <th>50%</th>\n",
       "      <td>2005.000000</td>\n",
       "      <td>8.680000</td>\n",
       "      <td>5.290000</td>\n",
       "      <td>0.860000</td>\n",
       "      <td>7.170000</td>\n",
       "    </tr>\n",
       "    <tr>\n",
       "      <th>75%</th>\n",
       "      <td>2011.000000</td>\n",
       "      <td>11.460000</td>\n",
       "      <td>7.170000</td>\n",
       "      <td>8.140000</td>\n",
       "      <td>9.530000</td>\n",
       "    </tr>\n",
       "    <tr>\n",
       "      <th>max</th>\n",
       "      <td>2017.000000</td>\n",
       "      <td>37.340000</td>\n",
       "      <td>30.820000</td>\n",
       "      <td>25.280000</td>\n",
       "      <td>151.190000</td>\n",
       "    </tr>\n",
       "  </tbody>\n",
       "</table>\n",
       "</div>"
      ],
      "text/plain": [
       "              Year  Residential   Industrial  Transportation        Total\n",
       "count  4104.000000  4104.000000  4104.000000     2497.000000  4104.000000\n",
       "mean   2004.771199     9.138038     5.871209        4.033136     7.863255\n",
       "std       7.714093     4.474938     3.170240        4.584986     4.795503\n",
       "min    1990.000000    -0.480000    -2.090000        0.000000    -1.670000\n",
       "25%    1999.000000     6.940000     4.160000        0.000000     5.640000\n",
       "50%    2005.000000     8.680000     5.290000        0.860000     7.170000\n",
       "75%    2011.000000    11.460000     7.170000        8.140000     9.530000\n",
       "max    2017.000000    37.340000    30.820000       25.280000   151.190000"
      ]
     },
     "execution_count": 170,
     "metadata": {},
     "output_type": "execute_result"
    }
   ],
   "source": [
    "df.describe()"
   ]
  },
  {
   "cell_type": "code",
   "execution_count": 171,
   "metadata": {
    "scrolled": true
   },
   "outputs": [
    {
     "data": {
      "text/html": [
       "<div>\n",
       "<style scoped>\n",
       "    .dataframe tbody tr th:only-of-type {\n",
       "        vertical-align: middle;\n",
       "    }\n",
       "\n",
       "    .dataframe tbody tr th {\n",
       "        vertical-align: top;\n",
       "    }\n",
       "\n",
       "    .dataframe thead th {\n",
       "        text-align: right;\n",
       "    }\n",
       "</style>\n",
       "<table border=\"1\" class=\"dataframe\">\n",
       "  <thead>\n",
       "    <tr style=\"text-align: right;\">\n",
       "      <th></th>\n",
       "      <th>Year</th>\n",
       "      <th>State</th>\n",
       "      <th>Residential</th>\n",
       "      <th>Commercial</th>\n",
       "      <th>Industrial</th>\n",
       "      <th>Transportation</th>\n",
       "      <th>Total</th>\n",
       "    </tr>\n",
       "    <tr>\n",
       "      <th>IndustrySectorCategory</th>\n",
       "      <th></th>\n",
       "      <th></th>\n",
       "      <th></th>\n",
       "      <th></th>\n",
       "      <th></th>\n",
       "      <th></th>\n",
       "      <th></th>\n",
       "    </tr>\n",
       "  </thead>\n",
       "  <tbody>\n",
       "    <tr>\n",
       "      <th>Delivery-Only Service</th>\n",
       "      <td>368</td>\n",
       "      <td>368</td>\n",
       "      <td>368</td>\n",
       "      <td>368</td>\n",
       "      <td>368</td>\n",
       "      <td>313</td>\n",
       "      <td>368</td>\n",
       "    </tr>\n",
       "    <tr>\n",
       "      <th>Energy-Only Providers</th>\n",
       "      <td>411</td>\n",
       "      <td>411</td>\n",
       "      <td>411</td>\n",
       "      <td>411</td>\n",
       "      <td>411</td>\n",
       "      <td>311</td>\n",
       "      <td>411</td>\n",
       "    </tr>\n",
       "    <tr>\n",
       "      <th>Full-Service Providers</th>\n",
       "      <td>1456</td>\n",
       "      <td>1456</td>\n",
       "      <td>1456</td>\n",
       "      <td>1456</td>\n",
       "      <td>1456</td>\n",
       "      <td>780</td>\n",
       "      <td>1456</td>\n",
       "    </tr>\n",
       "    <tr>\n",
       "      <th>Restructured Retail Service Providers</th>\n",
       "      <td>413</td>\n",
       "      <td>413</td>\n",
       "      <td>413</td>\n",
       "      <td>413</td>\n",
       "      <td>413</td>\n",
       "      <td>313</td>\n",
       "      <td>413</td>\n",
       "    </tr>\n",
       "    <tr>\n",
       "      <th>Total Electric Industry</th>\n",
       "      <td>1456</td>\n",
       "      <td>1456</td>\n",
       "      <td>1456</td>\n",
       "      <td>1456</td>\n",
       "      <td>1456</td>\n",
       "      <td>780</td>\n",
       "      <td>1456</td>\n",
       "    </tr>\n",
       "  </tbody>\n",
       "</table>\n",
       "</div>"
      ],
      "text/plain": [
       "                                       Year  State  Residential  Commercial  \\\n",
       "IndustrySectorCategory                                                        \n",
       "Delivery-Only Service                   368    368          368         368   \n",
       "Energy-Only Providers                   411    411          411         411   \n",
       "Full-Service Providers                 1456   1456         1456        1456   \n",
       "Restructured Retail Service Providers   413    413          413         413   \n",
       "Total Electric Industry                1456   1456         1456        1456   \n",
       "\n",
       "                                       Industrial  Transportation  Total  \n",
       "IndustrySectorCategory                                                    \n",
       "Delivery-Only Service                         368             313    368  \n",
       "Energy-Only Providers                         411             311    411  \n",
       "Full-Service Providers                       1456             780   1456  \n",
       "Restructured Retail Service Providers         413             313    413  \n",
       "Total Electric Industry                      1456             780   1456  "
      ]
     },
     "execution_count": 171,
     "metadata": {},
     "output_type": "execute_result"
    }
   ],
   "source": [
    "df.groupby(by=\"IndustrySectorCategory\").count()"
   ]
  },
  {
   "cell_type": "markdown",
   "metadata": {},
   "source": [
    "### We are going to be focusing on residential rates from Full-Service Providers, so let's filter all other types out"
   ]
  },
  {
   "cell_type": "code",
   "execution_count": 172,
   "metadata": {},
   "outputs": [],
   "source": [
    "df_electric = df[df[\"IndustrySectorCategory\"] == 'Full-Service Providers']\n",
    "### dont need to do this - we will use ints in join: \n",
    "##df_electric['Year'] = pd.to_datetime(df_electric[\"Year\"],format='%Y')"
   ]
  },
  {
   "cell_type": "code",
   "execution_count": 173,
   "metadata": {
    "scrolled": true
   },
   "outputs": [
    {
     "data": {
      "text/plain": [
       "<matplotlib.axes._subplots.AxesSubplot at 0x1a226b7390>"
      ]
     },
     "execution_count": 173,
     "metadata": {},
     "output_type": "execute_result"
    },
    {
     "data": {
      "image/png": "[encoded data removed]",
      "text/plain": [
       "<Figure size 432x288 with 1 Axes>"
      ]
     },
     "metadata": {},
     "output_type": "display_data"
    }
   ],
   "source": [
    "sns.scatterplot(x=\"Year\",y=\"Residential\",data=df_electric)"
   ]
  },
  {
   "cell_type": "markdown",
   "metadata": {},
   "source": [
    "## There is a clear upward trend in electric rates, with some states being outliers"
   ]
  },
  {
   "cell_type": "code",
   "execution_count": 174,
   "metadata": {},
   "outputs": [
    {
     "name": "stderr",
     "output_type": "stream",
     "text": [
      "/Users/silverbob/anaconda3/lib/python3.6/site-packages/pandas/core/frame.py:3694: SettingWithCopyWarning: \n",
      "A value is trying to be set on a copy of a slice from a DataFrame\n",
      "\n",
      "See the caveats in the documentation: http://pandas.pydata.org/pandas-docs/stable/indexing.html#indexing-view-versus-copy\n",
      "  errors=errors)\n",
      "/Users/silverbob/anaconda3/lib/python3.6/site-packages/pandas/core/frame.py:3778: SettingWithCopyWarning: \n",
      "A value is trying to be set on a copy of a slice from a DataFrame\n",
      "\n",
      "See the caveats in the documentation: http://pandas.pydata.org/pandas-docs/stable/indexing.html#indexing-view-versus-copy\n",
      "  return super(DataFrame, self).rename(**kwargs)\n"
     ]
    }
   ],
   "source": [
    "df_electric.drop(inplace=True,axis=0, columns=[\"IndustrySectorCategory\",\"Commercial\",\"Industrial\",\"Transportation\",\"Total\"])\n",
    "df_electric.rename(index=str,columns={\"Residential\":\"ResidentialRate\"}, inplace=True)"
   ]
  },
  {
   "cell_type": "code",
   "execution_count": 175,
   "metadata": {},
   "outputs": [
    {
     "data": {
      "text/html": [
       "<div>\n",
       "<style scoped>\n",
       "    .dataframe tbody tr th:only-of-type {\n",
       "        vertical-align: middle;\n",
       "    }\n",
       "\n",
       "    .dataframe tbody tr th {\n",
       "        vertical-align: top;\n",
       "    }\n",
       "\n",
       "    .dataframe thead th {\n",
       "        text-align: right;\n",
       "    }\n",
       "</style>\n",
       "<table border=\"1\" class=\"dataframe\">\n",
       "  <thead>\n",
       "    <tr style=\"text-align: right;\">\n",
       "      <th></th>\n",
       "      <th>Year</th>\n",
       "      <th>ResidentialRate</th>\n",
       "    </tr>\n",
       "  </thead>\n",
       "  <tbody>\n",
       "    <tr>\n",
       "      <th>count</th>\n",
       "      <td>1456.000000</td>\n",
       "      <td>1456.000000</td>\n",
       "    </tr>\n",
       "    <tr>\n",
       "      <th>mean</th>\n",
       "      <td>2003.500000</td>\n",
       "      <td>10.004904</td>\n",
       "    </tr>\n",
       "    <tr>\n",
       "      <th>std</th>\n",
       "      <td>8.080523</td>\n",
       "      <td>3.595502</td>\n",
       "    </tr>\n",
       "    <tr>\n",
       "      <th>min</th>\n",
       "      <td>1990.000000</td>\n",
       "      <td>4.360000</td>\n",
       "    </tr>\n",
       "    <tr>\n",
       "      <th>25%</th>\n",
       "      <td>1996.750000</td>\n",
       "      <td>7.557500</td>\n",
       "    </tr>\n",
       "    <tr>\n",
       "      <th>50%</th>\n",
       "      <td>2003.500000</td>\n",
       "      <td>9.175000</td>\n",
       "    </tr>\n",
       "    <tr>\n",
       "      <th>75%</th>\n",
       "      <td>2010.250000</td>\n",
       "      <td>11.572500</td>\n",
       "    </tr>\n",
       "    <tr>\n",
       "      <th>max</th>\n",
       "      <td>2017.000000</td>\n",
       "      <td>37.340000</td>\n",
       "    </tr>\n",
       "  </tbody>\n",
       "</table>\n",
       "</div>"
      ],
      "text/plain": [
       "              Year  ResidentialRate\n",
       "count  1456.000000      1456.000000\n",
       "mean   2003.500000        10.004904\n",
       "std       8.080523         3.595502\n",
       "min    1990.000000         4.360000\n",
       "25%    1996.750000         7.557500\n",
       "50%    2003.500000         9.175000\n",
       "75%    2010.250000        11.572500\n",
       "max    2017.000000        37.340000"
      ]
     },
     "execution_count": 175,
     "metadata": {},
     "output_type": "execute_result"
    }
   ],
   "source": [
    "df_electric.describe()"
   ]
  },
  {
   "cell_type": "markdown",
   "metadata": {},
   "source": [
    "### Now let's load solar costing dataset and join with electric rates"
   ]
  },
  {
   "cell_type": "code",
   "execution_count": 176,
   "metadata": {},
   "outputs": [],
   "source": [
    "df_solar = pd.read_csv(\"solar_clean_data.csv\", parse_dates=[0,1])\n"
   ]
  },
  {
   "cell_type": "markdown",
   "metadata": {},
   "source": [
    "## Adding Year (integer) column to help with joins to electric rates"
   ]
  },
  {
   "cell_type": "code",
   "execution_count": 177,
   "metadata": {},
   "outputs": [],
   "source": [
    "\n",
    "df_solar[\"Year\"] = df_solar.date.dt.year"
   ]
  },
  {
   "cell_type": "code",
   "execution_count": 178,
   "metadata": {},
   "outputs": [
    {
     "name": "stdout",
     "output_type": "stream",
     "text": [
      "<class 'pandas.core.frame.DataFrame'>\n",
      "RangeIndex: 9307 entries, 0 to 9306\n",
      "Data columns (total 11 columns):\n",
      "date            9307 non-null datetime64[ns]\n",
      "date.1          9307 non-null datetime64[ns]\n",
      "Size            9307 non-null float64\n",
      "price           9307 non-null float64\n",
      "CleanPrice      9307 non-null float64\n",
      "efficiency      9307 non-null float64\n",
      "CostPerKW       9307 non-null float64\n",
      "IncentivePct    9307 non-null float64\n",
      "State           9307 non-null object\n",
      "zip             9307 non-null int64\n",
      "Year            9307 non-null int64\n",
      "dtypes: datetime64[ns](2), float64(6), int64(2), object(1)\n",
      "memory usage: 799.9+ KB\n"
     ]
    }
   ],
   "source": [
    "df_solar.info()"
   ]
  },
  {
   "cell_type": "markdown",
   "metadata": {},
   "source": [
    "## Joining on Year and State columns"
   ]
  },
  {
   "cell_type": "code",
   "execution_count": 179,
   "metadata": {
    "scrolled": true
   },
   "outputs": [],
   "source": [
    "df_solar_and_electric = df_solar.merge(df_electric, left_on=[\"Year\",\"State\"], right_on=[\"Year\",\"State\"])"
   ]
  },
  {
   "cell_type": "code",
   "execution_count": 180,
   "metadata": {},
   "outputs": [
    {
     "name": "stdout",
     "output_type": "stream",
     "text": [
      "<class 'pandas.core.frame.DataFrame'>\n",
      "Int64Index: 9307 entries, 0 to 9306\n",
      "Data columns (total 12 columns):\n",
      "date               9307 non-null datetime64[ns]\n",
      "date.1             9307 non-null datetime64[ns]\n",
      "Size               9307 non-null float64\n",
      "price              9307 non-null float64\n",
      "CleanPrice         9307 non-null float64\n",
      "efficiency         9307 non-null float64\n",
      "CostPerKW          9307 non-null float64\n",
      "IncentivePct       9307 non-null float64\n",
      "State              9307 non-null object\n",
      "zip                9307 non-null int64\n",
      "Year               9307 non-null int64\n",
      "ResidentialRate    9307 non-null float64\n",
      "dtypes: datetime64[ns](2), float64(7), int64(2), object(1)\n",
      "memory usage: 945.2+ KB\n"
     ]
    }
   ],
   "source": [
    "df_solar_and_electric.info()"
   ]
  },
  {
   "cell_type": "code",
   "execution_count": 181,
   "metadata": {},
   "outputs": [
    {
     "data": {
      "text/html": [
       "<div>\n",
       "<style scoped>\n",
       "    .dataframe tbody tr th:only-of-type {\n",
       "        vertical-align: middle;\n",
       "    }\n",
       "\n",
       "    .dataframe tbody tr th {\n",
       "        vertical-align: top;\n",
       "    }\n",
       "\n",
       "    .dataframe thead th {\n",
       "        text-align: right;\n",
       "    }\n",
       "</style>\n",
       "<table border=\"1\" class=\"dataframe\">\n",
       "  <thead>\n",
       "    <tr style=\"text-align: right;\">\n",
       "      <th></th>\n",
       "      <th>Size</th>\n",
       "      <th>price</th>\n",
       "      <th>CleanPrice</th>\n",
       "      <th>efficiency</th>\n",
       "      <th>CostPerKW</th>\n",
       "      <th>IncentivePct</th>\n",
       "      <th>zip</th>\n",
       "      <th>Year</th>\n",
       "      <th>ResidentialRate</th>\n",
       "    </tr>\n",
       "  </thead>\n",
       "  <tbody>\n",
       "    <tr>\n",
       "      <th>Size</th>\n",
       "      <td>1.000000</td>\n",
       "      <td>0.773327</td>\n",
       "      <td>0.762622</td>\n",
       "      <td>0.136470</td>\n",
       "      <td>-0.330242</td>\n",
       "      <td>0.001065</td>\n",
       "      <td>-0.212860</td>\n",
       "      <td>0.160190</td>\n",
       "      <td>0.086982</td>\n",
       "    </tr>\n",
       "    <tr>\n",
       "      <th>price</th>\n",
       "      <td>0.773327</td>\n",
       "      <td>1.000000</td>\n",
       "      <td>0.949333</td>\n",
       "      <td>0.024801</td>\n",
       "      <td>0.211347</td>\n",
       "      <td>0.095390</td>\n",
       "      <td>-0.163077</td>\n",
       "      <td>-0.178509</td>\n",
       "      <td>-0.000283</td>\n",
       "    </tr>\n",
       "    <tr>\n",
       "      <th>CleanPrice</th>\n",
       "      <td>0.762622</td>\n",
       "      <td>0.949333</td>\n",
       "      <td>1.000000</td>\n",
       "      <td>0.094956</td>\n",
       "      <td>0.287250</td>\n",
       "      <td>-0.194831</td>\n",
       "      <td>-0.078705</td>\n",
       "      <td>-0.028895</td>\n",
       "      <td>0.076089</td>\n",
       "    </tr>\n",
       "    <tr>\n",
       "      <th>efficiency</th>\n",
       "      <td>0.136470</td>\n",
       "      <td>0.024801</td>\n",
       "      <td>0.094956</td>\n",
       "      <td>1.000000</td>\n",
       "      <td>-0.094252</td>\n",
       "      <td>-0.248038</td>\n",
       "      <td>0.082115</td>\n",
       "      <td>0.459134</td>\n",
       "      <td>0.200787</td>\n",
       "    </tr>\n",
       "    <tr>\n",
       "      <th>CostPerKW</th>\n",
       "      <td>-0.330242</td>\n",
       "      <td>0.211347</td>\n",
       "      <td>0.287250</td>\n",
       "      <td>-0.094252</td>\n",
       "      <td>1.000000</td>\n",
       "      <td>-0.276740</td>\n",
       "      <td>0.237441</td>\n",
       "      <td>-0.315555</td>\n",
       "      <td>-0.062903</td>\n",
       "    </tr>\n",
       "    <tr>\n",
       "      <th>IncentivePct</th>\n",
       "      <td>0.001065</td>\n",
       "      <td>0.095390</td>\n",
       "      <td>-0.194831</td>\n",
       "      <td>-0.248038</td>\n",
       "      <td>-0.276740</td>\n",
       "      <td>1.000000</td>\n",
       "      <td>-0.302446</td>\n",
       "      <td>-0.465654</td>\n",
       "      <td>-0.278386</td>\n",
       "    </tr>\n",
       "    <tr>\n",
       "      <th>zip</th>\n",
       "      <td>-0.212860</td>\n",
       "      <td>-0.163077</td>\n",
       "      <td>-0.078705</td>\n",
       "      <td>0.082115</td>\n",
       "      <td>0.237441</td>\n",
       "      <td>-0.302446</td>\n",
       "      <td>1.000000</td>\n",
       "      <td>0.024748</td>\n",
       "      <td>-0.337826</td>\n",
       "    </tr>\n",
       "    <tr>\n",
       "      <th>Year</th>\n",
       "      <td>0.160190</td>\n",
       "      <td>-0.178509</td>\n",
       "      <td>-0.028895</td>\n",
       "      <td>0.459134</td>\n",
       "      <td>-0.315555</td>\n",
       "      <td>-0.465654</td>\n",
       "      <td>0.024748</td>\n",
       "      <td>1.000000</td>\n",
       "      <td>0.340588</td>\n",
       "    </tr>\n",
       "    <tr>\n",
       "      <th>ResidentialRate</th>\n",
       "      <td>0.086982</td>\n",
       "      <td>-0.000283</td>\n",
       "      <td>0.076089</td>\n",
       "      <td>0.200787</td>\n",
       "      <td>-0.062903</td>\n",
       "      <td>-0.278386</td>\n",
       "      <td>-0.337826</td>\n",
       "      <td>0.340588</td>\n",
       "      <td>1.000000</td>\n",
       "    </tr>\n",
       "  </tbody>\n",
       "</table>\n",
       "</div>"
      ],
      "text/plain": [
       "                     Size     price  CleanPrice  efficiency  CostPerKW  \\\n",
       "Size             1.000000  0.773327    0.762622    0.136470  -0.330242   \n",
       "price            0.773327  1.000000    0.949333    0.024801   0.211347   \n",
       "CleanPrice       0.762622  0.949333    1.000000    0.094956   0.287250   \n",
       "efficiency       0.136470  0.024801    0.094956    1.000000  -0.094252   \n",
       "CostPerKW       -0.330242  0.211347    0.287250   -0.094252   1.000000   \n",
       "IncentivePct     0.001065  0.095390   -0.194831   -0.248038  -0.276740   \n",
       "zip             -0.212860 -0.163077   -0.078705    0.082115   0.237441   \n",
       "Year             0.160190 -0.178509   -0.028895    0.459134  -0.315555   \n",
       "ResidentialRate  0.086982 -0.000283    0.076089    0.200787  -0.062903   \n",
       "\n",
       "                 IncentivePct       zip      Year  ResidentialRate  \n",
       "Size                 0.001065 -0.212860  0.160190         0.086982  \n",
       "price                0.095390 -0.163077 -0.178509        -0.000283  \n",
       "CleanPrice          -0.194831 -0.078705 -0.028895         0.076089  \n",
       "efficiency          -0.248038  0.082115  0.459134         0.200787  \n",
       "CostPerKW           -0.276740  0.237441 -0.315555        -0.062903  \n",
       "IncentivePct         1.000000 -0.302446 -0.465654        -0.278386  \n",
       "zip                 -0.302446  1.000000  0.024748        -0.337826  \n",
       "Year                -0.465654  0.024748  1.000000         0.340588  \n",
       "ResidentialRate     -0.278386 -0.337826  0.340588         1.000000  "
      ]
     },
     "execution_count": 181,
     "metadata": {},
     "output_type": "execute_result"
    }
   ],
   "source": [
    "df_solar_and_electric.corr()"
   ]
  },
  {
   "cell_type": "code",
   "execution_count": 307,
   "metadata": {},
   "outputs": [
    {
     "data": {
      "image/png": "[encoded data removed]",
      "text/plain": [
       "<Figure size 1440x432 with 1 Axes>"
      ]
     },
     "metadata": {},
     "output_type": "display_data"
    }
   ],
   "source": [
    "# NY residential rates over the years\n",
    "df_solar_and_electric[df_solar_and_electric.State=='NY'].plot.line(x=\"date\",y=\"ResidentialRate\", figsize=(20,6), linewidth=3, fontsize=20) \n",
    "\n",
    "plt.xlabel('Year', fontsize=20); "
   ]
  },
  {
   "cell_type": "markdown",
   "metadata": {},
   "source": [
    "## Load NASA solar radiation rates and explore them"
   ]
  },
  {
   "cell_type": "code",
   "execution_count": 183,
   "metadata": {},
   "outputs": [],
   "source": [
    "df_nasa = pd.read_csv(\"nasa_insolation.csv\")\n",
    "df_nasa.set_index('CELL_ID', inplace=True)"
   ]
  },
  {
   "cell_type": "code",
   "execution_count": 184,
   "metadata": {
    "scrolled": true
   },
   "outputs": [
    {
     "data": {
      "text/html": [
       "<div>\n",
       "<style scoped>\n",
       "    .dataframe tbody tr th:only-of-type {\n",
       "        vertical-align: middle;\n",
       "    }\n",
       "\n",
       "    .dataframe tbody tr th {\n",
       "        vertical-align: top;\n",
       "    }\n",
       "\n",
       "    .dataframe thead th {\n",
       "        text-align: right;\n",
       "    }\n",
       "</style>\n",
       "<table border=\"1\" class=\"dataframe\">\n",
       "  <thead>\n",
       "    <tr style=\"text-align: right;\">\n",
       "      <th></th>\n",
       "      <th>AREA</th>\n",
       "      <th>PERIMETER</th>\n",
       "      <th>X_COORD</th>\n",
       "      <th>Y_COORD</th>\n",
       "      <th>JANUARY</th>\n",
       "      <th>FEBRUARY</th>\n",
       "      <th>MARCH</th>\n",
       "      <th>APRIL</th>\n",
       "      <th>MAY</th>\n",
       "      <th>JUNE</th>\n",
       "      <th>JULY</th>\n",
       "      <th>AUGUST</th>\n",
       "      <th>SEPTEMBER</th>\n",
       "      <th>OCTOBER</th>\n",
       "      <th>NOVEMBER</th>\n",
       "      <th>DECEMBER</th>\n",
       "      <th>ANNUAL</th>\n",
       "    </tr>\n",
       "  </thead>\n",
       "  <tbody>\n",
       "    <tr>\n",
       "      <th>count</th>\n",
       "      <td>4923.000000</td>\n",
       "      <td>4923.000000</td>\n",
       "      <td>4923.000000</td>\n",
       "      <td>4923.000000</td>\n",
       "      <td>4923.000000</td>\n",
       "      <td>4923.000000</td>\n",
       "      <td>4923.000000</td>\n",
       "      <td>4923.000000</td>\n",
       "      <td>4923.000000</td>\n",
       "      <td>4923.000000</td>\n",
       "      <td>4923.000000</td>\n",
       "      <td>4923.000000</td>\n",
       "      <td>4923.000000</td>\n",
       "      <td>4923.000000</td>\n",
       "      <td>4923.000000</td>\n",
       "      <td>4923.000000</td>\n",
       "      <td>4923.000000</td>\n",
       "    </tr>\n",
       "    <tr>\n",
       "      <th>mean</th>\n",
       "      <td>1713.945599</td>\n",
       "      <td>165.756413</td>\n",
       "      <td>-97.728048</td>\n",
       "      <td>38.169244</td>\n",
       "      <td>3.871446</td>\n",
       "      <td>4.531477</td>\n",
       "      <td>5.301022</td>\n",
       "      <td>5.793559</td>\n",
       "      <td>5.789630</td>\n",
       "      <td>6.019506</td>\n",
       "      <td>6.074816</td>\n",
       "      <td>6.003636</td>\n",
       "      <td>5.627538</td>\n",
       "      <td>5.114895</td>\n",
       "      <td>3.880906</td>\n",
       "      <td>3.589060</td>\n",
       "      <td>5.133153</td>\n",
       "    </tr>\n",
       "    <tr>\n",
       "      <th>std</th>\n",
       "      <td>162.468339</td>\n",
       "      <td>7.995004</td>\n",
       "      <td>16.358722</td>\n",
       "      <td>6.585848</td>\n",
       "      <td>0.925552</td>\n",
       "      <td>0.807653</td>\n",
       "      <td>0.808201</td>\n",
       "      <td>0.788611</td>\n",
       "      <td>0.740504</td>\n",
       "      <td>0.740382</td>\n",
       "      <td>0.749288</td>\n",
       "      <td>0.792527</td>\n",
       "      <td>0.808616</td>\n",
       "      <td>0.929455</td>\n",
       "      <td>1.063906</td>\n",
       "      <td>0.951491</td>\n",
       "      <td>0.771967</td>\n",
       "    </tr>\n",
       "    <tr>\n",
       "      <th>min</th>\n",
       "      <td>1300.485000</td>\n",
       "      <td>144.271000</td>\n",
       "      <td>-125.000000</td>\n",
       "      <td>0.000000</td>\n",
       "      <td>0.000000</td>\n",
       "      <td>0.000000</td>\n",
       "      <td>0.000000</td>\n",
       "      <td>0.000000</td>\n",
       "      <td>0.000000</td>\n",
       "      <td>0.000000</td>\n",
       "      <td>0.000000</td>\n",
       "      <td>0.000000</td>\n",
       "      <td>0.000000</td>\n",
       "      <td>0.000000</td>\n",
       "      <td>0.000000</td>\n",
       "      <td>0.000000</td>\n",
       "      <td>0.000000</td>\n",
       "    </tr>\n",
       "    <tr>\n",
       "      <th>25%</th>\n",
       "      <td>1585.325000</td>\n",
       "      <td>159.526000</td>\n",
       "      <td>-109.551500</td>\n",
       "      <td>34.008000</td>\n",
       "      <td>3.275000</td>\n",
       "      <td>4.160000</td>\n",
       "      <td>4.890000</td>\n",
       "      <td>5.475000</td>\n",
       "      <td>5.500000</td>\n",
       "      <td>5.700000</td>\n",
       "      <td>5.670000</td>\n",
       "      <td>5.550000</td>\n",
       "      <td>5.260000</td>\n",
       "      <td>4.630000</td>\n",
       "      <td>3.110000</td>\n",
       "      <td>2.980000</td>\n",
       "      <td>4.780000</td>\n",
       "    </tr>\n",
       "    <tr>\n",
       "      <th>50%</th>\n",
       "      <td>1714.805000</td>\n",
       "      <td>166.051000</td>\n",
       "      <td>-98.307000</td>\n",
       "      <td>38.401000</td>\n",
       "      <td>3.920000</td>\n",
       "      <td>4.510000</td>\n",
       "      <td>5.280000</td>\n",
       "      <td>5.800000</td>\n",
       "      <td>5.710000</td>\n",
       "      <td>6.020000</td>\n",
       "      <td>6.180000</td>\n",
       "      <td>6.080000</td>\n",
       "      <td>5.590000</td>\n",
       "      <td>5.200000</td>\n",
       "      <td>3.970000</td>\n",
       "      <td>3.660000</td>\n",
       "      <td>5.130000</td>\n",
       "    </tr>\n",
       "    <tr>\n",
       "      <th>75%</th>\n",
       "      <td>1845.428000</td>\n",
       "      <td>172.279500</td>\n",
       "      <td>-87.509000</td>\n",
       "      <td>42.917000</td>\n",
       "      <td>4.490000</td>\n",
       "      <td>4.970000</td>\n",
       "      <td>5.670000</td>\n",
       "      <td>6.140000</td>\n",
       "      <td>6.110000</td>\n",
       "      <td>6.420000</td>\n",
       "      <td>6.500000</td>\n",
       "      <td>6.460000</td>\n",
       "      <td>6.135000</td>\n",
       "      <td>5.760000</td>\n",
       "      <td>4.555000</td>\n",
       "      <td>4.200000</td>\n",
       "      <td>5.570000</td>\n",
       "    </tr>\n",
       "    <tr>\n",
       "      <th>max</th>\n",
       "      <td>2020.426000</td>\n",
       "      <td>180.232000</td>\n",
       "      <td>0.000000</td>\n",
       "      <td>49.323000</td>\n",
       "      <td>5.930000</td>\n",
       "      <td>6.430000</td>\n",
       "      <td>7.180000</td>\n",
       "      <td>7.350000</td>\n",
       "      <td>7.260000</td>\n",
       "      <td>7.140000</td>\n",
       "      <td>7.250000</td>\n",
       "      <td>7.340000</td>\n",
       "      <td>7.080000</td>\n",
       "      <td>6.670000</td>\n",
       "      <td>6.060000</td>\n",
       "      <td>5.560000</td>\n",
       "      <td>6.600000</td>\n",
       "    </tr>\n",
       "  </tbody>\n",
       "</table>\n",
       "</div>"
      ],
      "text/plain": [
       "              AREA    PERIMETER      X_COORD      Y_COORD      JANUARY  \\\n",
       "count  4923.000000  4923.000000  4923.000000  4923.000000  4923.000000   \n",
       "mean   1713.945599   165.756413   -97.728048    38.169244     3.871446   \n",
       "std     162.468339     7.995004    16.358722     6.585848     0.925552   \n",
       "min    1300.485000   144.271000  -125.000000     0.000000     0.000000   \n",
       "25%    1585.325000   159.526000  -109.551500    34.008000     3.275000   \n",
       "50%    1714.805000   166.051000   -98.307000    38.401000     3.920000   \n",
       "75%    1845.428000   172.279500   -87.509000    42.917000     4.490000   \n",
       "max    2020.426000   180.232000     0.000000    49.323000     5.930000   \n",
       "\n",
       "          FEBRUARY        MARCH        APRIL          MAY         JUNE  \\\n",
       "count  4923.000000  4923.000000  4923.000000  4923.000000  4923.000000   \n",
       "mean      4.531477     5.301022     5.793559     5.789630     6.019506   \n",
       "std       0.807653     0.808201     0.788611     0.740504     0.740382   \n",
       "min       0.000000     0.000000     0.000000     0.000000     0.000000   \n",
       "25%       4.160000     4.890000     5.475000     5.500000     5.700000   \n",
       "50%       4.510000     5.280000     5.800000     5.710000     6.020000   \n",
       "75%       4.970000     5.670000     6.140000     6.110000     6.420000   \n",
       "max       6.430000     7.180000     7.350000     7.260000     7.140000   \n",
       "\n",
       "              JULY       AUGUST    SEPTEMBER      OCTOBER     NOVEMBER  \\\n",
       "count  4923.000000  4923.000000  4923.000000  4923.000000  4923.000000   \n",
       "mean      6.074816     6.003636     5.627538     5.114895     3.880906   \n",
       "std       0.749288     0.792527     0.808616     0.929455     1.063906   \n",
       "min       0.000000     0.000000     0.000000     0.000000     0.000000   \n",
       "25%       5.670000     5.550000     5.260000     4.630000     3.110000   \n",
       "50%       6.180000     6.080000     5.590000     5.200000     3.970000   \n",
       "75%       6.500000     6.460000     6.135000     5.760000     4.555000   \n",
       "max       7.250000     7.340000     7.080000     6.670000     6.060000   \n",
       "\n",
       "          DECEMBER       ANNUAL  \n",
       "count  4923.000000  4923.000000  \n",
       "mean      3.589060     5.133153  \n",
       "std       0.951491     0.771967  \n",
       "min       0.000000     0.000000  \n",
       "25%       2.980000     4.780000  \n",
       "50%       3.660000     5.130000  \n",
       "75%       4.200000     5.570000  \n",
       "max       5.560000     6.600000  "
      ]
     },
     "execution_count": 184,
     "metadata": {},
     "output_type": "execute_result"
    }
   ],
   "source": [
    "df_nasa.describe()"
   ]
  },
  {
   "cell_type": "code",
   "execution_count": 185,
   "metadata": {},
   "outputs": [
    {
     "name": "stdout",
     "output_type": "stream",
     "text": [
      "<class 'pandas.core.frame.DataFrame'>\n",
      "Int64Index: 4923 entries, 233346 to 251417\n",
      "Data columns (total 17 columns):\n",
      "AREA         4923 non-null float64\n",
      "PERIMETER    4923 non-null float64\n",
      "X_COORD      4923 non-null float64\n",
      "Y_COORD      4923 non-null float64\n",
      "JANUARY      4923 non-null float64\n",
      "FEBRUARY     4923 non-null float64\n",
      "MARCH        4923 non-null float64\n",
      "APRIL        4923 non-null float64\n",
      "MAY          4923 non-null float64\n",
      "JUNE         4923 non-null float64\n",
      "JULY         4923 non-null float64\n",
      "AUGUST       4923 non-null float64\n",
      "SEPTEMBER    4923 non-null float64\n",
      "OCTOBER      4923 non-null float64\n",
      "NOVEMBER     4923 non-null float64\n",
      "DECEMBER     4923 non-null float64\n",
      "ANNUAL       4923 non-null float64\n",
      "dtypes: float64(17)\n",
      "memory usage: 692.3 KB\n"
     ]
    }
   ],
   "source": [
    "df_nasa.info()"
   ]
  },
  {
   "cell_type": "markdown",
   "metadata": {},
   "source": [
    "## NASA data has no zip or state, we will need to enrich it. Here is a little test using Bing Map API for my house in Brooklyn using GPS coordinates"
   ]
  },
  {
   "cell_type": "code",
   "execution_count": 186,
   "metadata": {
    "scrolled": true
   },
   "outputs": [
    {
     "name": "stdout",
     "output_type": "stream",
     "text": [
      "state: NY\n",
      "zip: 11215\n",
      "state: PA\n",
      "zip: 00000\n"
     ]
    }
   ],
   "source": [
    "import requests\n",
    "import json\n",
    "\n",
    "def get_zip_state_by_gps_coord(latitude, longitude):\n",
    "    response = requests.get(\"http://dev.virtualearth.net/REST/v1/Locations/ \" + str(latitude) + \",\" + str(longitude) +\"?o=json&key=AmIRhNMzTSnkHgcyEbKzgOYPeHT9G4r1I4ruInftcdWcnPhPeJiJ4y79MZ5IaVfX\")\n",
    "    data=response.json()\n",
    "    try:\n",
    "        state = data['resourceSets'][0]['resources'][0]['address']['adminDistrict']\n",
    "    except:\n",
    "        state = '--'\n",
    "    \n",
    "    try:\n",
    "        zip = data['resourceSets'][0]['resources'][0]['address']['postalCode']\n",
    "    except:\n",
    "        zip = '00000'\n",
    "        \n",
    "    return ( {'state' : state, 'zip' : zip })\n",
    "\n",
    "\n",
    "\n",
    "location = get_zip_state_by_gps_coord(40.661000,-73.963000 )\n",
    "                                                                                    \n",
    "print ('state: ' + location['state']) \n",
    "print('zip: ' +  location['zip']) \n",
    "\n",
    "location = get_zip_state_by_gps_coord(40.162,-74.806)\n",
    "                                                                                    \n",
    "print ('state: ' + location['state']) \n",
    "print('zip: ' +  location['zip']) "
   ]
  },
  {
   "cell_type": "markdown",
   "metadata": {},
   "source": [
    "## CAREFUL HERE - LONG RUNNING STEP"
   ]
  },
  {
   "cell_type": "code",
   "execution_count": null,
   "metadata": {},
   "outputs": [],
   "source": [
    "REDO_ZIP_STATE_FOR_SOLAR = False"
   ]
  },
  {
   "cell_type": "code",
   "execution_count": 187,
   "metadata": {},
   "outputs": [],
   "source": [
    "# this step takes 15 minutes to run \n",
    "if REDO_ZIP_STATE_FOR_SOLAR:\n",
    "    df_nasa[\"Zip\"] = df_nasa.apply(lambda row: get_zip_state_by_gps_coord(row['Y_COORD'], row['X_COORD'])['zip'] , axis=1)\n",
    "\n"
   ]
  },
  {
   "cell_type": "code",
   "execution_count": 191,
   "metadata": {},
   "outputs": [],
   "source": [
    "if REDO_ZIP_STATE_FOR_SOLAR:\n",
    "    df_nasa[\"State\"] = df_nasa.apply(lambda row: get_zip_state_by_gps_coord(row['Y_COORD'], row['X_COORD'])['state'] , axis=1)\n",
    "\n"
   ]
  },
  {
   "cell_type": "code",
   "execution_count": 192,
   "metadata": {
    "scrolled": false
   },
   "outputs": [
    {
     "data": {
      "text/html": [
       "<div>\n",
       "<style scoped>\n",
       "    .dataframe tbody tr th:only-of-type {\n",
       "        vertical-align: middle;\n",
       "    }\n",
       "\n",
       "    .dataframe tbody tr th {\n",
       "        vertical-align: top;\n",
       "    }\n",
       "\n",
       "    .dataframe thead th {\n",
       "        text-align: right;\n",
       "    }\n",
       "</style>\n",
       "<table border=\"1\" class=\"dataframe\">\n",
       "  <thead>\n",
       "    <tr style=\"text-align: right;\">\n",
       "      <th></th>\n",
       "      <th>AREA</th>\n",
       "      <th>PERIMETER</th>\n",
       "      <th>X_COORD</th>\n",
       "      <th>Y_COORD</th>\n",
       "      <th>JANUARY</th>\n",
       "      <th>FEBRUARY</th>\n",
       "      <th>MARCH</th>\n",
       "      <th>APRIL</th>\n",
       "      <th>MAY</th>\n",
       "      <th>JUNE</th>\n",
       "      <th>JULY</th>\n",
       "      <th>AUGUST</th>\n",
       "      <th>SEPTEMBER</th>\n",
       "      <th>OCTOBER</th>\n",
       "      <th>NOVEMBER</th>\n",
       "      <th>DECEMBER</th>\n",
       "      <th>ANNUAL</th>\n",
       "      <th>Zip</th>\n",
       "      <th>State</th>\n",
       "    </tr>\n",
       "    <tr>\n",
       "      <th>CELL_ID</th>\n",
       "      <th></th>\n",
       "      <th></th>\n",
       "      <th></th>\n",
       "      <th></th>\n",
       "      <th></th>\n",
       "      <th></th>\n",
       "      <th></th>\n",
       "      <th></th>\n",
       "      <th></th>\n",
       "      <th></th>\n",
       "      <th></th>\n",
       "      <th></th>\n",
       "      <th></th>\n",
       "      <th></th>\n",
       "      <th></th>\n",
       "      <th></th>\n",
       "      <th></th>\n",
       "      <th></th>\n",
       "      <th></th>\n",
       "    </tr>\n",
       "  </thead>\n",
       "  <tbody>\n",
       "    <tr>\n",
       "      <th>267370</th>\n",
       "      <td>1786.176</td>\n",
       "      <td>169.360</td>\n",
       "      <td>-74.715</td>\n",
       "      <td>40.917</td>\n",
       "      <td>3.21</td>\n",
       "      <td>3.99</td>\n",
       "      <td>5.19</td>\n",
       "      <td>5.30</td>\n",
       "      <td>5.57</td>\n",
       "      <td>5.71</td>\n",
       "      <td>5.60</td>\n",
       "      <td>5.58</td>\n",
       "      <td>5.26</td>\n",
       "      <td>4.67</td>\n",
       "      <td>3.45</td>\n",
       "      <td>2.98</td>\n",
       "      <td>4.71</td>\n",
       "      <td>07874</td>\n",
       "      <td>NJ</td>\n",
       "    </tr>\n",
       "    <tr>\n",
       "      <th>268370</th>\n",
       "      <td>1785.224</td>\n",
       "      <td>169.317</td>\n",
       "      <td>-74.214</td>\n",
       "      <td>40.880</td>\n",
       "      <td>3.26</td>\n",
       "      <td>3.96</td>\n",
       "      <td>5.20</td>\n",
       "      <td>5.17</td>\n",
       "      <td>5.47</td>\n",
       "      <td>5.62</td>\n",
       "      <td>5.47</td>\n",
       "      <td>5.42</td>\n",
       "      <td>5.14</td>\n",
       "      <td>4.53</td>\n",
       "      <td>3.33</td>\n",
       "      <td>3.02</td>\n",
       "      <td>4.63</td>\n",
       "      <td>07424</td>\n",
       "      <td>NJ</td>\n",
       "    </tr>\n",
       "    <tr>\n",
       "      <th>267371</th>\n",
       "      <td>1775.259</td>\n",
       "      <td>168.839</td>\n",
       "      <td>-74.760</td>\n",
       "      <td>40.539</td>\n",
       "      <td>3.35</td>\n",
       "      <td>4.07</td>\n",
       "      <td>5.23</td>\n",
       "      <td>5.35</td>\n",
       "      <td>5.64</td>\n",
       "      <td>5.78</td>\n",
       "      <td>5.67</td>\n",
       "      <td>5.59</td>\n",
       "      <td>5.24</td>\n",
       "      <td>4.66</td>\n",
       "      <td>3.53</td>\n",
       "      <td>3.12</td>\n",
       "      <td>4.77</td>\n",
       "      <td>08853</td>\n",
       "      <td>NJ</td>\n",
       "    </tr>\n",
       "    <tr>\n",
       "      <th>268371</th>\n",
       "      <td>1774.236</td>\n",
       "      <td>168.792</td>\n",
       "      <td>-74.265</td>\n",
       "      <td>40.503</td>\n",
       "      <td>3.15</td>\n",
       "      <td>3.90</td>\n",
       "      <td>5.06</td>\n",
       "      <td>5.03</td>\n",
       "      <td>5.34</td>\n",
       "      <td>5.46</td>\n",
       "      <td>5.30</td>\n",
       "      <td>5.23</td>\n",
       "      <td>4.94</td>\n",
       "      <td>4.41</td>\n",
       "      <td>3.23</td>\n",
       "      <td>2.87</td>\n",
       "      <td>4.49</td>\n",
       "      <td>08861</td>\n",
       "      <td>NJ</td>\n",
       "    </tr>\n",
       "    <tr>\n",
       "      <th>267372</th>\n",
       "      <td>1764.352</td>\n",
       "      <td>168.316</td>\n",
       "      <td>-74.806</td>\n",
       "      <td>40.162</td>\n",
       "      <td>3.21</td>\n",
       "      <td>3.85</td>\n",
       "      <td>5.04</td>\n",
       "      <td>5.08</td>\n",
       "      <td>5.35</td>\n",
       "      <td>5.50</td>\n",
       "      <td>5.33</td>\n",
       "      <td>5.23</td>\n",
       "      <td>4.95</td>\n",
       "      <td>4.38</td>\n",
       "      <td>3.38</td>\n",
       "      <td>2.97</td>\n",
       "      <td>4.52</td>\n",
       "      <td>00000</td>\n",
       "      <td>PA</td>\n",
       "    </tr>\n",
       "  </tbody>\n",
       "</table>\n",
       "</div>"
      ],
      "text/plain": [
       "             AREA  PERIMETER  X_COORD  Y_COORD  JANUARY  FEBRUARY  MARCH  \\\n",
       "CELL_ID                                                                    \n",
       "267370   1786.176    169.360  -74.715   40.917     3.21      3.99   5.19   \n",
       "268370   1785.224    169.317  -74.214   40.880     3.26      3.96   5.20   \n",
       "267371   1775.259    168.839  -74.760   40.539     3.35      4.07   5.23   \n",
       "268371   1774.236    168.792  -74.265   40.503     3.15      3.90   5.06   \n",
       "267372   1764.352    168.316  -74.806   40.162     3.21      3.85   5.04   \n",
       "\n",
       "         APRIL   MAY  JUNE  JULY  AUGUST  SEPTEMBER  OCTOBER  NOVEMBER  \\\n",
       "CELL_ID                                                                  \n",
       "267370    5.30  5.57  5.71  5.60    5.58       5.26     4.67      3.45   \n",
       "268370    5.17  5.47  5.62  5.47    5.42       5.14     4.53      3.33   \n",
       "267371    5.35  5.64  5.78  5.67    5.59       5.24     4.66      3.53   \n",
       "268371    5.03  5.34  5.46  5.30    5.23       4.94     4.41      3.23   \n",
       "267372    5.08  5.35  5.50  5.33    5.23       4.95     4.38      3.38   \n",
       "\n",
       "         DECEMBER  ANNUAL    Zip State  \n",
       "CELL_ID                                 \n",
       "267370       2.98    4.71  07874    NJ  \n",
       "268370       3.02    4.63  07424    NJ  \n",
       "267371       3.12    4.77  08853    NJ  \n",
       "268371       2.87    4.49  08861    NJ  \n",
       "267372       2.97    4.52  00000    PA  "
      ]
     },
     "execution_count": 192,
     "metadata": {},
     "output_type": "execute_result"
    }
   ],
   "source": [
    "## check South Jersey if the enrichment worked, Zip and State should be populated\n",
    "\n",
    "df_nasa[ (df_nasa[\"X_COORD\"] < -74) & (df_nasa[\"X_COORD\"] > -75) & (df_nasa[\"Y_COORD\"] < 41) & (df_nasa[\"Y_COORD\"] > 40)].head()"
   ]
  },
  {
   "cell_type": "code",
   "execution_count": 193,
   "metadata": {},
   "outputs": [],
   "source": [
    "df_nasa.to_csv(\"nasa_insolation_with_zip_state.csv\")"
   ]
  },
  {
   "cell_type": "code",
   "execution_count": 194,
   "metadata": {},
   "outputs": [
    {
     "data": {
      "text/plain": [
       "<matplotlib.axes._subplots.AxesSubplot at 0x1a1ff5e518>"
      ]
     },
     "execution_count": 194,
     "metadata": {},
     "output_type": "execute_result"
    },
    {
     "data": {
      "image/png": "[encoded data removed]",
      "text/plain": [
       "<Figure size 842.4x595.44 with 1 Axes>"
      ]
     },
     "metadata": {},
     "output_type": "display_data"
    }
   ],
   "source": [
    "fig, ax = plt.subplots()\n",
    "fig.set_size_inches(11.7,8.27)\n",
    "sns.boxplot(data=df_nasa[df_nasa[\"State\"].isin(['CA','NY','NJ','CT','TX','AZ','FL','NH'])], y=\"ANNUAL\", x=\"State\")"
   ]
  },
  {
   "cell_type": "markdown",
   "metadata": {},
   "source": [
    "## Find mean annual sun exposure per state and save it into a new datafram"
   ]
  },
  {
   "cell_type": "code",
   "execution_count": 195,
   "metadata": {},
   "outputs": [
    {
     "name": "stdout",
     "output_type": "stream",
     "text": [
      "<class 'pandas.core.frame.DataFrame'>\n",
      "Index: 64 entries, -- to WY\n",
      "Data columns (total 1 columns):\n",
      "SolarRadiation    64 non-null float64\n",
      "dtypes: float64(1)\n",
      "memory usage: 1.0+ KB\n"
     ]
    }
   ],
   "source": [
    "df_sun_by_state = pd.DataFrame(df_nasa.groupby('State')['ANNUAL'].mean())\n",
    "df_sun_by_state.index.set_names(\"State\")\n",
    "df_sun_by_state.rename(index=str,columns={'ANNUAL': \"SolarRadiation\"}, inplace=True)\n",
    "df_sun_by_state.info()"
   ]
  },
  {
   "cell_type": "code",
   "execution_count": null,
   "metadata": {},
   "outputs": [],
   "source": []
  },
  {
   "cell_type": "markdown",
   "metadata": {},
   "source": [
    "## Joining Solar Cost/Electric Data with NASA insolatiomn on State columns"
   ]
  },
  {
   "cell_type": "code",
   "execution_count": 196,
   "metadata": {
    "scrolled": true
   },
   "outputs": [],
   "source": [
    "df_solar_electric_nasa_merged = df_solar_and_electric.merge(df_sun_by_state, left_on=[\"State\"], right_on=[\"State\"])"
   ]
  },
  {
   "cell_type": "code",
   "execution_count": 197,
   "metadata": {},
   "outputs": [
    {
     "name": "stdout",
     "output_type": "stream",
     "text": [
      "<class 'pandas.core.frame.DataFrame'>\n",
      "Int64Index: 9307 entries, 0 to 9306\n",
      "Data columns (total 13 columns):\n",
      "date               9307 non-null datetime64[ns]\n",
      "date.1             9307 non-null datetime64[ns]\n",
      "Size               9307 non-null float64\n",
      "price              9307 non-null float64\n",
      "CleanPrice         9307 non-null float64\n",
      "efficiency         9307 non-null float64\n",
      "CostPerKW          9307 non-null float64\n",
      "IncentivePct       9307 non-null float64\n",
      "State              9307 non-null object\n",
      "zip                9307 non-null int64\n",
      "Year               9307 non-null int64\n",
      "ResidentialRate    9307 non-null float64\n",
      "SolarRadiation     9307 non-null float64\n",
      "dtypes: datetime64[ns](2), float64(8), int64(2), object(1)\n",
      "memory usage: 1018.0+ KB\n"
     ]
    }
   ],
   "source": [
    "df_solar_electric_nasa_merged.info()"
   ]
  },
  {
   "cell_type": "markdown",
   "metadata": {},
   "source": [
    "## Adding construction costs from https://www.census.gov/construction/cpi/"
   ]
  },
  {
   "cell_type": "code",
   "execution_count": 255,
   "metadata": {},
   "outputs": [],
   "source": [
    "df_construction = pd.read_csv(\"construction_costs_monthly.csv\")\n",
    "df_construction.Date = pd.to_datetime(df_construction.Date)\n",
    "df_construction = df_construction.set_index(df_construction.Date)"
   ]
  },
  {
   "cell_type": "code",
   "execution_count": 256,
   "metadata": {
    "scrolled": true
   },
   "outputs": [
    {
     "name": "stdout",
     "output_type": "stream",
     "text": [
      "<class 'pandas.core.frame.DataFrame'>\n",
      "DatetimeIndex: 226 entries, 2000-01-01 to 2018-10-01\n",
      "Data columns (total 2 columns):\n",
      "Date                      226 non-null datetime64[ns]\n",
      "ConstructionPriceIndex    226 non-null float64\n",
      "dtypes: datetime64[ns](1), float64(1)\n",
      "memory usage: 5.3 KB\n"
     ]
    }
   ],
   "source": [
    "df_construction.info()"
   ]
  },
  {
   "cell_type": "code",
   "execution_count": 257,
   "metadata": {
    "scrolled": true
   },
   "outputs": [
    {
     "data": {
      "text/html": [
       "<div>\n",
       "<style scoped>\n",
       "    .dataframe tbody tr th:only-of-type {\n",
       "        vertical-align: middle;\n",
       "    }\n",
       "\n",
       "    .dataframe tbody tr th {\n",
       "        vertical-align: top;\n",
       "    }\n",
       "\n",
       "    .dataframe thead th {\n",
       "        text-align: right;\n",
       "    }\n",
       "</style>\n",
       "<table border=\"1\" class=\"dataframe\">\n",
       "  <thead>\n",
       "    <tr style=\"text-align: right;\">\n",
       "      <th></th>\n",
       "      <th>ConstructionPriceIndex</th>\n",
       "    </tr>\n",
       "  </thead>\n",
       "  <tbody>\n",
       "    <tr>\n",
       "      <th>count</th>\n",
       "      <td>226.000000</td>\n",
       "    </tr>\n",
       "    <tr>\n",
       "      <th>mean</th>\n",
       "      <td>101.178761</td>\n",
       "    </tr>\n",
       "    <tr>\n",
       "      <th>std</th>\n",
       "      <td>14.327090</td>\n",
       "    </tr>\n",
       "    <tr>\n",
       "      <th>min</th>\n",
       "      <td>74.700000</td>\n",
       "    </tr>\n",
       "    <tr>\n",
       "      <th>25%</th>\n",
       "      <td>94.650000</td>\n",
       "    </tr>\n",
       "    <tr>\n",
       "      <th>50%</th>\n",
       "      <td>100.750000</td>\n",
       "    </tr>\n",
       "    <tr>\n",
       "      <th>75%</th>\n",
       "      <td>109.425000</td>\n",
       "    </tr>\n",
       "    <tr>\n",
       "      <th>max</th>\n",
       "      <td>131.200000</td>\n",
       "    </tr>\n",
       "  </tbody>\n",
       "</table>\n",
       "</div>"
      ],
      "text/plain": [
       "       ConstructionPriceIndex\n",
       "count              226.000000\n",
       "mean               101.178761\n",
       "std                 14.327090\n",
       "min                 74.700000\n",
       "25%                 94.650000\n",
       "50%                100.750000\n",
       "75%                109.425000\n",
       "max                131.200000"
      ]
     },
     "execution_count": 257,
     "metadata": {},
     "output_type": "execute_result"
    }
   ],
   "source": [
    "df_construction.describe()"
   ]
  },
  {
   "cell_type": "code",
   "execution_count": 258,
   "metadata": {},
   "outputs": [
    {
     "data": {
      "text/html": [
       "<div>\n",
       "<style scoped>\n",
       "    .dataframe tbody tr th:only-of-type {\n",
       "        vertical-align: middle;\n",
       "    }\n",
       "\n",
       "    .dataframe tbody tr th {\n",
       "        vertical-align: top;\n",
       "    }\n",
       "\n",
       "    .dataframe thead th {\n",
       "        text-align: right;\n",
       "    }\n",
       "</style>\n",
       "<table border=\"1\" class=\"dataframe\">\n",
       "  <thead>\n",
       "    <tr style=\"text-align: right;\">\n",
       "      <th></th>\n",
       "      <th>Date</th>\n",
       "      <th>ConstructionPriceIndex</th>\n",
       "    </tr>\n",
       "    <tr>\n",
       "      <th>Date</th>\n",
       "      <th></th>\n",
       "      <th></th>\n",
       "    </tr>\n",
       "  </thead>\n",
       "  <tbody>\n",
       "    <tr>\n",
       "      <th>2018-06-01</th>\n",
       "      <td>2018-06-01</td>\n",
       "      <td>130.7</td>\n",
       "    </tr>\n",
       "    <tr>\n",
       "      <th>2018-07-01</th>\n",
       "      <td>2018-07-01</td>\n",
       "      <td>130.2</td>\n",
       "    </tr>\n",
       "    <tr>\n",
       "      <th>2018-08-01</th>\n",
       "      <td>2018-08-01</td>\n",
       "      <td>130.0</td>\n",
       "    </tr>\n",
       "    <tr>\n",
       "      <th>2018-09-01</th>\n",
       "      <td>2018-09-01</td>\n",
       "      <td>130.4</td>\n",
       "    </tr>\n",
       "    <tr>\n",
       "      <th>2018-10-01</th>\n",
       "      <td>2018-10-01</td>\n",
       "      <td>131.2</td>\n",
       "    </tr>\n",
       "  </tbody>\n",
       "</table>\n",
       "</div>"
      ],
      "text/plain": [
       "                 Date  ConstructionPriceIndex\n",
       "Date                                         \n",
       "2018-06-01 2018-06-01                   130.7\n",
       "2018-07-01 2018-07-01                   130.2\n",
       "2018-08-01 2018-08-01                   130.0\n",
       "2018-09-01 2018-09-01                   130.4\n",
       "2018-10-01 2018-10-01                   131.2"
      ]
     },
     "execution_count": 258,
     "metadata": {},
     "output_type": "execute_result"
    }
   ],
   "source": [
    "df_construction.tail()"
   ]
  },
  {
   "cell_type": "code",
   "execution_count": 259,
   "metadata": {},
   "outputs": [
    {
     "data": {
      "text/plain": [
       "<matplotlib.axes._subplots.AxesSubplot at 0x1a25be02e8>"
      ]
     },
     "execution_count": 259,
     "metadata": {},
     "output_type": "execute_result"
    },
    {
     "data": {
      "image/png": "[encoded data removed]",
      "text/plain": [
       "<Figure size 432x288 with 1 Axes>"
      ]
     },
     "metadata": {},
     "output_type": "display_data"
    }
   ],
   "source": [
    "sns.lineplot(data=df_construction, y=\"ConstructionPriceIndex\", x=\"Date\")"
   ]
  },
  {
   "cell_type": "code",
   "execution_count": null,
   "metadata": {},
   "outputs": [],
   "source": []
  },
  {
   "cell_type": "markdown",
   "metadata": {},
   "source": [
    "## Joining Solar Cost/Electric/NASA insolation and Construction costs on Date"
   ]
  },
  {
   "cell_type": "code",
   "execution_count": 270,
   "metadata": {},
   "outputs": [],
   "source": [
    "df_solar_electric_nasa_merged.set_index(df_solar_electric_nasa_merged.date, inplace=True)\n",
    "\n",
    "df_solar_electric_nasa_merged['Month'] = df_solar_electric_nasa_merged.index.month\n",
    "\n",
    "df_construction['Month'] =df_construction.index.month\n",
    "df_construction['Year'] =df_construction.index.year"
   ]
  },
  {
   "cell_type": "code",
   "execution_count": 271,
   "metadata": {
    "scrolled": true
   },
   "outputs": [],
   "source": [
    "df_final_merged = df_solar_electric_nasa_merged.merge(df_construction, left_on=[\"Month\",'Year'], right_on=[\"Month\",'Year'] )"
   ]
  },
  {
   "cell_type": "code",
   "execution_count": 272,
   "metadata": {},
   "outputs": [
    {
     "name": "stdout",
     "output_type": "stream",
     "text": [
      "<class 'pandas.core.frame.DataFrame'>\n",
      "Int64Index: 9307 entries, 0 to 9306\n",
      "Data columns (total 16 columns):\n",
      "date                      9307 non-null datetime64[ns]\n",
      "date.1                    9307 non-null datetime64[ns]\n",
      "Size                      9307 non-null float64\n",
      "price                     9307 non-null float64\n",
      "CleanPrice                9307 non-null float64\n",
      "efficiency                9307 non-null float64\n",
      "CostPerKW                 9307 non-null float64\n",
      "IncentivePct              9307 non-null float64\n",
      "State                     9307 non-null object\n",
      "zip                       9307 non-null int64\n",
      "Year                      9307 non-null int64\n",
      "ResidentialRate           9307 non-null float64\n",
      "SolarRadiation            9307 non-null float64\n",
      "Month                     9307 non-null int64\n",
      "Date                      9307 non-null datetime64[ns]\n",
      "ConstructionPriceIndex    9307 non-null float64\n",
      "dtypes: datetime64[ns](3), float64(9), int64(3), object(1)\n",
      "memory usage: 1.2+ MB\n"
     ]
    }
   ],
   "source": [
    "df_final_merged.info()"
   ]
  },
  {
   "cell_type": "code",
   "execution_count": 275,
   "metadata": {},
   "outputs": [
    {
     "data": {
      "text/plain": [
       "<matplotlib.axes._subplots.AxesSubplot at 0x1a25f16630>"
      ]
     },
     "execution_count": 275,
     "metadata": {},
     "output_type": "execute_result"
    },
    {
     "data": {
      "image/png": "[encoded data removed]",
      "text/plain": [
       "<Figure size 432x288 with 1 Axes>"
      ]
     },
     "metadata": {},
     "output_type": "display_data"
    }
   ],
   "source": [
    "sns.lineplot(data=df_final_merged, x=\"Year\", y=\"ConstructionPriceIndex\")"
   ]
  },
  {
   "cell_type": "code",
   "execution_count": 279,
   "metadata": {},
   "outputs": [],
   "source": [
    "# drop duplicate columns \n",
    "df_final_merged.drop(columns=[\"date\",\"date.1\"], inplace=True)"
   ]
  },
  {
   "cell_type": "code",
   "execution_count": 315,
   "metadata": {},
   "outputs": [
    {
     "data": {
      "image/png": "[encoded data removed]",
      "text/plain": [
       "<Figure size 648x504 with 2 Axes>"
      ]
     },
     "metadata": {},
     "output_type": "display_data"
    }
   ],
   "source": [
    "plt.style.use(\"fivethirtyeight\")\n",
    "df_final_merged.plot(kind=\"scatter\", \\\n",
    "                     x=\"Size\", y=\"CleanPrice\", c=\"CostPerKW\", \\\n",
    "                     cmap=\"GnBu\", s = 100, alpha = .7,  figsize=(9, 7));"
   ]
  },
  {
   "cell_type": "markdown",
   "metadata": {},
   "source": [
    "# Lighter green color in the chart above shows least expensive per KW systems."
   ]
  },
  {
   "cell_type": "markdown",
   "metadata": {},
   "source": [
    "## Adding new column: ROIYears - # of years before costs are recouped"
   ]
  },
  {
   "cell_type": "code",
   "execution_count": 317,
   "metadata": {},
   "outputs": [],
   "source": [
    "# Price / (size of the system *  SolarRadiation * residential electric rate / 100) / 365\n",
    "\n",
    "df_final_merged[\"ROIYears\"] = \\\n",
    "    df_final_merged.apply(lambda row :  float(row.CleanPrice) / ( float(row.Size * row.SolarRadiation * row.ResidentialRate) / 100. * 365.), axis=1)\n",
    "\n"
   ]
  },
  {
   "cell_type": "code",
   "execution_count": 320,
   "metadata": {},
   "outputs": [
    {
     "name": "stdout",
     "output_type": "stream",
     "text": [
      "<class 'pandas.core.frame.DataFrame'>\n",
      "Int64Index: 9307 entries, 0 to 9306\n",
      "Data columns (total 15 columns):\n",
      "Size                      9307 non-null float64\n",
      "price                     9307 non-null float64\n",
      "CleanPrice                9307 non-null float64\n",
      "efficiency                9307 non-null float64\n",
      "CostPerKW                 9307 non-null float64\n",
      "IncentivePct              9307 non-null float64\n",
      "State                     9307 non-null object\n",
      "zip                       9307 non-null int64\n",
      "Year                      9307 non-null int64\n",
      "ResidentialRate           9307 non-null float64\n",
      "SolarRadiation            9307 non-null float64\n",
      "Month                     9307 non-null int64\n",
      "Date                      9307 non-null datetime64[ns]\n",
      "ConstructionPriceIndex    9307 non-null float64\n",
      "ROIYears                  9307 non-null float64\n",
      "dtypes: datetime64[ns](1), float64(10), int64(3), object(1)\n",
      "memory usage: 1.1+ MB\n"
     ]
    }
   ],
   "source": [
    "df_final_merged.info()"
   ]
  },
  {
   "cell_type": "markdown",
   "metadata": {},
   "source": [
    "## Finally, save the resulting dataframe to disk so we can pick it up in FP3 part of the project"
   ]
  },
  {
   "cell_type": "code",
   "execution_count": 318,
   "metadata": {},
   "outputs": [],
   "source": [
    "df_final_merged.to_csv(\"solar_electric_construction_nasa_final.csv\")"
   ]
  },
  {
   "cell_type": "code",
   "execution_count": null,
   "metadata": {},
   "outputs": [],
   "source": []
  }
 ],
 "metadata": {
  "kernelspec": {
   "display_name": "Python 3",
   "language": "python",
   "name": "python3"
  },
  "language_info": {
   "codemirror_mode": {
    "name": "ipython",
    "version": 3
   },
   "file_extension": ".py",
   "mimetype": "text/x-python",
   "name": "python",
   "nbconvert_exporter": "python",
   "pygments_lexer": "ipython3",
   "version": "3.6.5"
  }
 },
 "nbformat": 4,
 "nbformat_minor": 2
}
